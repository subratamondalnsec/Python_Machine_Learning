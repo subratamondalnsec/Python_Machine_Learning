{
  "cells": [
    {
      "cell_type": "markdown",
      "metadata": {
        "id": "A05OG15VqOPF"
      },
      "source": [
        "# Task : Session 1\n",
        "Solve these questions own your own and try to test yourself what you have learned in the session.\n",
        "\n",
        "Happy Learning!"
      ]
    },
    {
      "cell_type": "markdown",
      "metadata": {
        "id": "2doIXf8bqe9_"
      },
      "source": [
        "### Q1 :- Print the given strings as per stated format.\n",
        "\n",
        "**Given strings**:\n",
        "```\n",
        "\"Data\" \"Science\" \"Mentorship\" \"Program\"\n",
        "\"By\" \"CampusX\"\n",
        "```\n",
        "**Output**:\n",
        "```\n",
        "Data-Science-Mentorship-Program-started-By-CampusX\n",
        "```\n",
        "\n",
        "Concept- [Seperator and End]"
      ]
    },
    {
      "cell_type": "code",
      "execution_count": null,
      "metadata": {
        "colab": {
          "base_uri": "https://localhost:8080/"
        },
        "id": "-em6d3KErDtp",
        "outputId": "df9ee099-a534-4b5b-f5e2-6c2432029f33"
      },
      "outputs": [
        {
          "name": "stdout",
          "output_type": "stream",
          "text": [
            "Data-Science-Mentorship-Program-By-CampusX"
          ]
        }
      ],
      "source": [
        "data=[\"Data\",\"Science\",\"Mentorship\",\"Program\",\"By\",\"CampusX\"]\n",
        "length=len(data);\n",
        "for i in range(length):\n",
        "  if(i==length-1):\n",
        "    print(data[i],end='')\n",
        "  else:\n",
        "    print(data[i],end='-')"
      ]
    },
    {
      "cell_type": "markdown",
      "metadata": {
        "id": "1KUpN7ZTrC3_"
      },
      "source": [
        "### Q2:- Write a program that will convert celsius value to fahrenheit."
      ]
    },
    {
      "cell_type": "code",
      "execution_count": 7,
      "metadata": {
        "colab": {
          "base_uri": "https://localhost:8080/"
        },
        "id": "yxKYhYQiqWfj",
        "outputId": "bc8753a1-10a0-4fea-ed40-cb2bf0e99a45"
      },
      "outputs": [
        {
          "name": "stdout",
          "output_type": "stream",
          "text": [
            "Enter the celsius value152\n",
            "Fahrenheit Value 305.6\n"
          ]
        }
      ],
      "source": [
        "celsius=int(input(\"Enter the celsius value : \"))\n",
        "fahrenheit=(celsius*1.8)+32\n",
        "print(\"Fahrenheit Value\",fahrenheit)"
      ]
    },
    {
      "cell_type": "markdown",
      "metadata": {
        "id": "RLrOBBJurLB2"
      },
      "source": [
        "### Q3:- Take 2 numbers as input from the user.Write a program to swap the numbers without using any special python syntax."
      ]
    },
    {
      "cell_type": "code",
      "execution_count": null,
      "metadata": {
        "id": "yPn7if0TrJ4F"
      },
      "outputs": [],
      "source": [
        "x=int(input(\"Enter the value of x : \"))\n",
        "y=int(input(\"Enter the value of y : \"))\n",
        "x=x+y\n",
        "y=x-y\n",
        "x=x-y\n",
        "print(\"After Swapping\")\n",
        "print(\"Value of x : \",x)\n",
        "print(\"Value of y : \",y)"
      ]
    },
    {
      "cell_type": "markdown",
      "metadata": {
        "id": "waLCP1bjr7ML"
      },
      "source": [
        "### Q4:- Write a program to find the euclidean distance between two coordinates.Take both the coordinates from the user as input."
      ]
    },
    {
      "cell_type": "code",
      "execution_count": 8,
      "metadata": {
        "colab": {
          "base_uri": "https://localhost:8080/"
        },
        "id": "Pl1Sv-xnrxnH",
        "outputId": "e90b0de3-f2ff-42e7-f95c-c6e4eeae41f8"
      },
      "outputs": [
        {
          "name": "stdout",
          "output_type": "stream",
          "text": [
            "Enter the value of x : 0\n",
            "Enter the value of y : 0\n",
            "Enter the value of x1 : 5\n",
            "Enter the value of y1 : 5\n",
            "Euclidean distance between two coordinates:  7.0710678118654755\n"
          ]
        }
      ],
      "source": [
        "x=int(input(\"Enter the value of x : \"))\n",
        "y=int(input(\"Enter the value of y : \"))\n",
        "\n",
        "x1=int(input(\"Enter the value of x1 : \"))\n",
        "y1=int(input(\"Enter the value of y1 : \"))\n",
        "\n",
        "distance=((x-x1)**2+(y-y1)**2)**0.5\n",
        "\n",
        "print(\"Euclidean distance between two coordinates: \",distance)"
      ]
    },
    {
      "cell_type": "markdown",
      "metadata": {
        "id": "VLrhg-FRsHjR"
      },
      "source": [
        "### Q5:- Write a program to find the simple interest when the value of principle,rate of interest and time period is provided by the user.\n"
      ]
    },
    {
      "cell_type": "code",
      "execution_count": null,
      "metadata": {
        "id": "s40DlReZsTmY"
      },
      "outputs": [],
      "source": [
        "p=int(input(\"Enter the value of p : \"))\n",
        "r=int(input(\"Enter the value of r : \"))\n",
        "t=int(input(\"Enter the value of t : \"))\n",
        "si=(p*r*t)/100\n",
        "print(\"Simple Interest : \",si)"
      ]
    },
    {
      "cell_type": "markdown",
      "metadata": {
        "id": "LMy0BTUktYKa"
      },
      "source": [
        "### Q6:- Write a program that will tell the number of dogs and chicken are there when the user will provide the value of total heads and legs.\n",
        "\n",
        "For example:\n",
        "Input:\n",
        "heads -> 4\n",
        "legs -> 12\n",
        "<br>\n",
        "Output:\n",
        "dogs -> 2\n",
        "chicken -> 2\n",
        "\n",
        "\n",
        "\n"
      ]
    },
    {
      "cell_type": "code",
      "execution_count": 10,
      "metadata": {
        "colab": {
          "base_uri": "https://localhost:8080/"
        },
        "id": "XSBvJoA4tXaG",
        "outputId": "9b318a92-e4fb-4fb5-da7d-6b7e111025bd"
      },
      "outputs": [
        {
          "name": "stdout",
          "output_type": "stream",
          "text": [
            "Enter the value of heads: 4\n",
            "Enter the value of legs: 12\n",
            "Dogs -> 2.0, Chickens -> 2.0\n"
          ]
        }
      ],
      "source": [
        "heads = int(input(\"Enter the value of heads: \"))\n",
        "legs = int(input(\"Enter the value of legs: \"))\n",
        "\n",
        "if legs % 2 != 0:\n",
        "    print(\"Invalid input: legs must be even.\")\n",
        "else:\n",
        "    dogs = (legs - 2 * heads) // 2\n",
        "    chickens = heads - dogs\n",
        "\n",
        "    if dogs < 0 or chickens < 0:\n",
        "        print(\"No valid solution exists.\")\n",
        "    else:\n",
        "        print(f\"Dogs -> {dogs}, Chickens -> {chickens}\")\n"
      ]
    },
    {
      "cell_type": "markdown",
      "metadata": {
        "id": "gJ7C5kZYt4BP"
      },
      "source": [
        "### Q7:- Write a program to find the sum of squares of first n natural numbers where n will be provided by the user."
      ]
    },
    {
      "cell_type": "code",
      "execution_count": 12,
      "metadata": {
        "colab": {
          "base_uri": "https://localhost:8080/"
        },
        "id": "_tHsmEHzt2nX",
        "outputId": "f25b4b59-8e67-48ca-fe35-c86a74ceafa7"
      },
      "outputs": [
        {
          "name": "stdout",
          "output_type": "stream",
          "text": [
            "Enter the value of n : 10\n",
            "Sum of squares of first n natural numbers :  385\n"
          ]
        }
      ],
      "source": [
        "n=int(input(\"Enter the value of n : \"))\n",
        "sum=n*(n+1)*(2*n+1)//6\n",
        "print(\"Sum of squares of first n natural numbers : \",sum)"
      ]
    },
    {
      "cell_type": "markdown",
      "metadata": {
        "id": "FHrMM7g-yG1h"
      },
      "source": [
        "### Q8:- Given the first 2 terms of an Arithmetic Series.Find the Nth term of the series. Assume all inputs are provided by the user."
      ]
    },
    {
      "cell_type": "code",
      "execution_count": 14,
      "metadata": {
        "colab": {
          "base_uri": "https://localhost:8080/"
        },
        "id": "go4_kmZmyVSx",
        "outputId": "70c49916-1f09-46a8-eaf8-27fcbf935e04"
      },
      "outputs": [
        {
          "name": "stdout",
          "output_type": "stream",
          "text": [
            "Enter the value of first : 10\n",
            "Enter the value of second : 13\n",
            "Enter the value of n : 9\n",
            "Nth term of the series :  34\n"
          ]
        }
      ],
      "source": [
        "first=int(input(\"Enter the value of first : \"))\n",
        "second=int(input(\"Enter the value of second : \"))\n",
        "n=int(input(\"Enter the value of n : \"))\n",
        "d=second-first\n",
        "nth=first+(n-1)*d\n",
        "print(\"Nth term of the series : \",nth)"
      ]
    },
    {
      "cell_type": "markdown",
      "metadata": {
        "id": "QgyRX_es1oum"
      },
      "source": [
        "### Q9:- Given 2 fractions, find the sum of those 2 fractions.Take the numerator and denominator values of the fractions from the user."
      ]
    },
    {
      "cell_type": "code",
      "execution_count": 15,
      "metadata": {
        "id": "X05xqFS1yW16"
      },
      "outputs": [],
      "source": [
        "import math\n",
        "\n",
        "# Input from user\n",
        "num1 = int(input(\"Enter numerator of first fraction: \"))\n",
        "den1 = int(input(\"Enter denominator of first fraction: \"))\n",
        "num2 = int(input(\"Enter numerator of second fraction: \"))\n",
        "den2 = int(input(\"Enter denominator of second fraction: \"))\n",
        "\n",
        "# Calculate LCM of denominators\n",
        "lcm = (den1 * den2) // math.gcd(den1, den2)\n",
        "\n",
        "# Adjust numerators to have common denominator\n",
        "new_num1 = num1 * (lcm // den1)\n",
        "new_num2 = num2 * (lcm // den2)\n",
        "\n",
        "# Add the numerators\n",
        "result_num = new_num1 + new_num2\n",
        "result_den = lcm\n",
        "\n",
        "# Simplify fraction using gcd\n",
        "g = math.gcd(result_num, result_den)\n",
        "result_num //= g\n",
        "result_den //= g\n",
        "\n",
        "print(f\"Sum = {result_num}/{result_den}\")\n",
        "\n"
      ]
    },
    {
      "cell_type": "markdown",
      "metadata": {
        "id": "eaql38ln13u7"
      },
      "source": [
        "### Q10:- Given the height, width and breadth of a milk tank, you have to find out how many glasses of milk can be obtained? Assume all the inputs are provided by the user.\n",
        "\n",
        "\n",
        "\n",
        "Input:<br>\n",
        "Dimensions of the milk tank<br>\n",
        "H = 20cm, L = 20cm, B = 20cm\n",
        "<br><br>\n",
        "Dimensions of the glass<br>\n",
        "h = 3cm, r = 1cm"
      ]
    },
    {
      "cell_type": "code",
      "execution_count": null,
      "metadata": {
        "id": "FePZqno74eWv"
      },
      "outputs": [],
      "source": [
        "import math\n",
        "\n",
        "# Input tank dimensions\n",
        "H = int(input(\"Enter height of tank (cm): \"))\n",
        "L = int(input(\"Enter length of tank (cm): \"))\n",
        "B = int(input(\"Enter breadth of tank (cm): \"))\n",
        "\n",
        "# Input glass dimensions\n",
        "h = int(input(\"Enter height of glass (cm): \"))\n",
        "r = int(input(\"Enter radius of glass (cm): \"))\n",
        "\n",
        "# Volume of tank (cuboid)\n",
        "V_tank = H * L * B\n",
        "\n",
        "# Volume of glass (cylinder)\n",
        "V_glass = math.pi * r * r * h\n",
        "\n",
        "# Number of glasses\n",
        "num_glasses = int(V_tank // V_glass)  # only full glasses\n",
        "\n",
        "print(f\"Total glasses of milk = {num_glasses}\")\n"
      ]
    }
  ],
  "metadata": {
    "colab": {
      "provenance": []
    },
    "kernelspec": {
      "display_name": "Python 3",
      "name": "python3"
    },
    "language_info": {
      "name": "python"
    }
  },
  "nbformat": 4,
  "nbformat_minor": 0
}
