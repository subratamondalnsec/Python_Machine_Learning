{
  "nbformat": 4,
  "nbformat_minor": 0,
  "metadata": {
    "colab": {
      "provenance": []
    },
    "kernelspec": {
      "name": "python3",
      "display_name": "Python 3"
    },
    "language_info": {
      "name": "python"
    }
  },
  "cells": [
    {
      "cell_type": "markdown",
      "source": [
        "### `Problem 1` - Print the following pattern. Write a program to use for loop to print the following reverse number pattern.\n",
        "\n",
        "```bash\n",
        "5 4 3 2 1\n",
        "4 3 2 1\n",
        "3 2 1\n",
        "2 1\n",
        "1\n",
        "```"
      ],
      "metadata": {
        "id": "2Yeb66OvFRiP"
      }
    },
    {
      "cell_type": "code",
      "source": [
        "n=int(input(\"Enter the number: \"))\n",
        "for i in range(n,0,-1):\n",
        "  for j in range(i,0,-1):\n",
        "    print(j,end=\" \")\n",
        "  print()"
      ],
      "metadata": {
        "id": "I_rywD-UFTkY",
        "colab": {
          "base_uri": "https://localhost:8080/"
        },
        "outputId": "6d68f7db-9e68-4275-de30-eb0776efc196"
      },
      "execution_count": 1,
      "outputs": [
        {
          "output_type": "stream",
          "name": "stdout",
          "text": [
            "Enter the number: 5\n",
            "5 4 3 2 1 \n",
            "4 3 2 1 \n",
            "3 2 1 \n",
            "2 1 \n",
            "1 \n"
          ]
        }
      ]
    },
    {
      "cell_type": "markdown",
      "source": [
        "### `Problem 2`: Print the following pattern.\n",
        "\n",
        "```bash\n",
        "*\n",
        "* *\n",
        "* * *\n",
        "* * * *\n",
        "* * * * *\n",
        "* * * *\n",
        "* * *\n",
        "* *\n",
        "*\n",
        "```"
      ],
      "metadata": {
        "id": "n0baB62wFVV5"
      }
    },
    {
      "cell_type": "code",
      "source": [
        "n=int(input(\"Enter the Number : \"))\n",
        "for i in range (1,n+1):\n",
        "  for j in range(1,i+1):\n",
        "    print('*',end=' ')\n",
        "  print()\n",
        "for i in range (n-1,0,-1):\n",
        "  for j in range(i,0,-1):\n",
        "    print('*',end=' ')\n",
        "  print()\n"
      ],
      "metadata": {
        "id": "wTD92u-bFbVT",
        "colab": {
          "base_uri": "https://localhost:8080/"
        },
        "outputId": "03bc983f-9842-414a-f4a1-1631fd2326a8"
      },
      "execution_count": 4,
      "outputs": [
        {
          "output_type": "stream",
          "name": "stdout",
          "text": [
            "Enter the Number : 5\n",
            "* \n",
            "* * \n",
            "* * * \n",
            "* * * * \n",
            "* * * * * \n",
            "* * * * \n",
            "* * * \n",
            "* * \n",
            "* \n"
          ]
        }
      ]
    },
    {
      "cell_type": "markdown",
      "source": [
        "### `Problem 3`:Write a program to pring the following pattern\n",
        "\n",
        "        *\n",
        "      * * *\n",
        "    * * * * *\n",
        "   * * * * * * *\n",
        "* * * * * * * * *\n"
      ],
      "metadata": {
        "id": "M7MzBABdFc8b"
      }
    },
    {
      "cell_type": "code",
      "source": [
        "n=int(input(\"Enter the Number : \"))\n",
        "for i in range (1,n+1):\n",
        "  for j in range(0,n-i):\n",
        "    print(' ',end=' ')\n",
        "  for k in range(0,2*i-1):\n",
        "    print('*',end=' ')\n",
        "  print()"
      ],
      "metadata": {
        "id": "ul-tJ0meF2Jr",
        "colab": {
          "base_uri": "https://localhost:8080/"
        },
        "outputId": "54fdaf51-c05e-4726-a817-42e27a05ccff"
      },
      "execution_count": 9,
      "outputs": [
        {
          "output_type": "stream",
          "name": "stdout",
          "text": [
            "Enter the Number : 3\n",
            "    * \n",
            "  * * * \n",
            "* * * * * \n"
          ]
        }
      ]
    },
    {
      "cell_type": "markdown",
      "source": [
        "### `Problem 4`:Write a program to print the following pattern\n",
        "\n",
        "1\n",
        "\n",
        "2 1\n",
        "\n",
        "3 2 1\n",
        "\n",
        "4 3 2 1\n",
        "\n",
        "5 4 3 2 1"
      ],
      "metadata": {
        "id": "gU4m8eC3GHqH"
      }
    },
    {
      "cell_type": "code",
      "source": [
        "n=int(input(\"Enter the Number : \"))\n",
        "\n",
        "for i in range (1,n+1):\n",
        "  for j in range(i,0,-1):\n",
        "    print(j,end=' ')\n",
        "  print()"
      ],
      "metadata": {
        "id": "HfGPUtmJGQf6",
        "colab": {
          "base_uri": "https://localhost:8080/"
        },
        "outputId": "4c3ca38e-231c-4ae9-cab9-6483526453ea"
      },
      "execution_count": 11,
      "outputs": [
        {
          "output_type": "stream",
          "name": "stdout",
          "text": [
            "Enter the Number : 5\n",
            "1 \n",
            "2 1 \n",
            "3 2 1 \n",
            "4 3 2 1 \n",
            "5 4 3 2 1 \n"
          ]
        }
      ]
    },
    {
      "cell_type": "markdown",
      "source": [
        "### `Problem 5`: Write a Python Program to Find the Sum of the Series till the nth term:<br>\n",
        "1 + x^2/2 + x^3/3 + … x^n/n<br>\n",
        "n will be provided by the user"
      ],
      "metadata": {
        "id": "98TZ1X0hGSI-"
      }
    },
    {
      "cell_type": "code",
      "source": [
        "n=int(input(\"Enter the Number n : \"))\n",
        "x=int(input(\"Enter the Number x : \"))\n",
        "sum=0\n",
        "for i in range (1,n+1):\n",
        "  sum=sum+((x**i)/i)\n",
        "\n",
        "print(\"Total Sum : \",sum)"
      ],
      "metadata": {
        "id": "3ZWu99XUGuhU",
        "colab": {
          "base_uri": "https://localhost:8080/"
        },
        "outputId": "b960ae7c-5f43-40f8-fcbb-08e45e949ea8"
      },
      "execution_count": 13,
      "outputs": [
        {
          "output_type": "stream",
          "name": "stdout",
          "text": [
            "Enter the Number n : 5\n",
            "Enter the Number x : 1\n",
            "Total Sum :  2.283333333333333\n"
          ]
        }
      ]
    },
    {
      "cell_type": "markdown",
      "source": [
        "### `Problem 6`: The natural logarithm can be approximated by the following series.\n",
        "\n",
        "![image.png](data:image/png;base64,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)\n",
        "If x is input through the keyboard, write a program to calculate the sum of the first seven terms of this series."
      ],
      "metadata": {
        "id": "eypsjli6HGzX"
      }
    },
    {
      "cell_type": "code",
      "source": [
        "n = int(input(\"Enter the Number n : \"))\n",
        "x = int(input(\"Enter the Number x : \"))\n",
        "sum = 0\n",
        "for i in range(1, n+1):\n",
        "    sum += (1/i) * (((x-1)/x)**i)\n",
        "\n",
        "print(\"Sum is = \", sum)\n"
      ],
      "metadata": {
        "id": "ZESw_FOCHpMP",
        "colab": {
          "base_uri": "https://localhost:8080/"
        },
        "outputId": "c94c6255-3fca-48a9-e806-e8731b873544"
      },
      "execution_count": 43,
      "outputs": [
        {
          "output_type": "stream",
          "name": "stdout",
          "text": [
            "Enter the Number n : 4\n",
            "Enter the Number x : 2\n",
            "Sum is =  0.6822916666666666\n"
          ]
        }
      ]
    },
    {
      "cell_type": "markdown",
      "source": [
        "### `Problem 7` - Find the sum of the series upto n terms.\n",
        "Write a program to calculate the sum of series up to n term. For example, if n =5 the series will become 2 + 22 + 222 + 2222 + 22222 = 24690. Take the user input and then calculate. And the output style should match which is given in the example.\n",
        "\n",
        "**Example 1:**\n",
        "\n",
        "`Input:`\n",
        "```bash\n",
        "5\n",
        "```\n",
        "\n",
        "`Output:`\n",
        "\n",
        "```bash\n",
        "2+22+222+2222+22222\n",
        "Sum of above series is: 24690\n",
        "```"
      ],
      "metadata": {
        "id": "matpUyxTH4hQ"
      }
    },
    {
      "cell_type": "code",
      "source": [
        "n=int(input(\"Enter the Input : \"))\n",
        "sum=0\n",
        "last=0\n",
        "for i in range(0,n):\n",
        "  last=last*10+2\n",
        "  sum+=last\n",
        "\n",
        "print(\"Sum : \",sum)"
      ],
      "metadata": {
        "id": "jL68XMU8H3xM",
        "colab": {
          "base_uri": "https://localhost:8080/"
        },
        "outputId": "378a7d80-7f6e-4284-cbe8-ef3c1795a9e0"
      },
      "execution_count": 17,
      "outputs": [
        {
          "output_type": "stream",
          "name": "stdout",
          "text": [
            "Enter the Input : 5\n",
            "Sum :  24690\n"
          ]
        }
      ]
    },
    {
      "cell_type": "markdown",
      "source": [
        "###`Problem 8`: Write a program to print all the unique combinations of 1,2,3 and 4\n",
        "\n",
        "`Output`:\n",
        "```\n",
        "1 2 3 4\n",
        "1 2 4 3\n",
        "1 3 2 4\n",
        "1 3 4 2\n",
        "1 4 2 3\n",
        "1 4 3 2\n",
        "2 1 3 4\n",
        "2 1 4 3\n",
        "2 3 1 4\n",
        "2 3 4 1\n",
        "2 4 1 3\n",
        ".\n",
        ".\n",
        "and so on\n",
        "```"
      ],
      "metadata": {
        "id": "neMN6FpLJ0dS"
      }
    },
    {
      "cell_type": "code",
      "metadata": {
        "colab": {
          "base_uri": "https://localhost:8080/"
        },
        "id": "d55e99b1",
        "outputId": "ee36bf51-01ed-47d3-ab4b-1c8de19b776d"
      },
      "source": [
        "import itertools\n",
        "\n",
        "numbers = [1, 2, 3, 4]\n",
        "combinations = itertools.permutations(numbers)\n",
        "for combo in combinations:\n",
        "  print(combo)\n",
        "  print(''.join(map(str, combo)))"
      ],
      "execution_count": 20,
      "outputs": [
        {
          "output_type": "stream",
          "name": "stdout",
          "text": [
            "(1, 2, 3, 4)\n",
            "1234\n",
            "(1, 2, 4, 3)\n",
            "1243\n",
            "(1, 3, 2, 4)\n",
            "1324\n",
            "(1, 3, 4, 2)\n",
            "1342\n",
            "(1, 4, 2, 3)\n",
            "1423\n",
            "(1, 4, 3, 2)\n",
            "1432\n",
            "(2, 1, 3, 4)\n",
            "2134\n",
            "(2, 1, 4, 3)\n",
            "2143\n",
            "(2, 3, 1, 4)\n",
            "2314\n",
            "(2, 3, 4, 1)\n",
            "2341\n",
            "(2, 4, 1, 3)\n",
            "2413\n",
            "(2, 4, 3, 1)\n",
            "2431\n",
            "(3, 1, 2, 4)\n",
            "3124\n",
            "(3, 1, 4, 2)\n",
            "3142\n",
            "(3, 2, 1, 4)\n",
            "3214\n",
            "(3, 2, 4, 1)\n",
            "3241\n",
            "(3, 4, 1, 2)\n",
            "3412\n",
            "(3, 4, 2, 1)\n",
            "3421\n",
            "(4, 1, 2, 3)\n",
            "4123\n",
            "(4, 1, 3, 2)\n",
            "4132\n",
            "(4, 2, 1, 3)\n",
            "4213\n",
            "(4, 2, 3, 1)\n",
            "4231\n",
            "(4, 3, 1, 2)\n",
            "4312\n",
            "(4, 3, 2, 1)\n",
            "4321\n"
          ]
        }
      ]
    },
    {
      "cell_type": "markdown",
      "source": [
        "###`Problem 9`: Write a program that will take a decimal number as input and prints out the binary equivalent of the number"
      ],
      "metadata": {
        "id": "jD6Mq1WwJS9a"
      }
    },
    {
      "cell_type": "code",
      "source": [
        "n=int(input(\"Enter the Decimal : \"))\n",
        "result=''\n",
        "while n :\n",
        "  if n%2==0 :\n",
        "    result='0'+result\n",
        "  else:\n",
        "    result='1'+result\n",
        "  n=n//2\n",
        "print(\"Binary Number \",result)"
      ],
      "metadata": {
        "id": "ITSHHbuFJ0bR",
        "colab": {
          "base_uri": "https://localhost:8080/"
        },
        "outputId": "4ff46a42-fab8-4ef8-8c67-b995993ffdc4"
      },
      "execution_count": 25,
      "outputs": [
        {
          "output_type": "stream",
          "name": "stdout",
          "text": [
            "Enter the Decimal : 16\n",
            "Binary Number  10000\n"
          ]
        }
      ]
    },
    {
      "cell_type": "markdown",
      "source": [
        "###`Problem 10`: Write a program that will take 2 numbers as input and prints the LCM and HCF of those 2 numbers"
      ],
      "metadata": {
        "id": "efZreicIKKJt"
      }
    },
    {
      "cell_type": "code",
      "source": [
        "x=int(input(\"Enter the Number 1 : \"))\n",
        "y=int(input(\"Enter the Number 2 : \"))\n",
        "\n",
        "LCM=0\n",
        "HCF=0\n",
        "mn=min(x,y)\n",
        "for i in range(mn,0,-1):\n",
        "  if x%i==0 and y%i==0:\n",
        "    HCF=i\n",
        "    break;\n",
        "\n",
        "LCM=(x*y)/HCF\n",
        "print(\"LCM : \",LCM)\n",
        "print(\"HCF : \",HCF)"
      ],
      "metadata": {
        "id": "jaW6o1pOKYUi",
        "colab": {
          "base_uri": "https://localhost:8080/"
        },
        "outputId": "ff0cefc0-107a-4502-c3e6-3c1bb564ac03"
      },
      "execution_count": 32,
      "outputs": [
        {
          "output_type": "stream",
          "name": "stdout",
          "text": [
            "Enter the Number 1 : 12\n",
            "Enter the Number 2 : 18\n",
            "LCM :  36.0\n",
            "HCF :  6\n"
          ]
        }
      ]
    },
    {
      "cell_type": "markdown",
      "source": [
        "### **Problem 11:** Create Short Form from initial character\n",
        "Given a string create short form ofthe string from Initial character. Short form should be capitalised.\n",
        "\n",
        "Example:\n",
        "\n",
        "`Input:`\n",
        "```\n",
        "Data science mentorship program\n",
        "```\n",
        "\n",
        "`Output:`\n",
        "```\n",
        "DSMP\n",
        "```"
      ],
      "metadata": {
        "id": "gY90o_oXKaZK"
      }
    },
    {
      "cell_type": "code",
      "source": [
        "x=input(\"Enter the String : \")\n",
        "result=''\n",
        "for i in x.split():\n",
        "  result+=i[0].upper()\n",
        "print(result)"
      ],
      "metadata": {
        "id": "5rUZx7bILBzW",
        "colab": {
          "base_uri": "https://localhost:8080/"
        },
        "outputId": "4f4a26a2-73eb-4f49-cc32-674e3d873505"
      },
      "execution_count": 33,
      "outputs": [
        {
          "output_type": "stream",
          "name": "stdout",
          "text": [
            "Enter the String : Data science mentorship program\n",
            "DSMP\n"
          ]
        }
      ]
    },
    {
      "cell_type": "markdown",
      "source": [
        "###`Problem 12`: Append second string in the middle of first string\n",
        "\n",
        "`Input:`\n",
        "```\n",
        "campusx\n",
        "data\n",
        "```\n",
        "`Output`:\n",
        "\n",
        "```\n",
        "camdatapusx\n",
        "```"
      ],
      "metadata": {
        "id": "L8qKJ5xrLDat"
      }
    },
    {
      "cell_type": "code",
      "source": [
        "x=input(\"Enter the String 1 : \")\n",
        "y=input(\"Enter the String 2 : \")\n",
        "result=x[0:len(x)//2]+y+x[len(x)//2:]\n",
        "print(result)"
      ],
      "metadata": {
        "id": "PIiCBJiYLINe",
        "colab": {
          "base_uri": "https://localhost:8080/"
        },
        "outputId": "722d64a1-9a94-4517-c3fe-289ef0763470"
      },
      "execution_count": 34,
      "outputs": [
        {
          "output_type": "stream",
          "name": "stdout",
          "text": [
            "Enter the String 1 : campusx\n",
            "Enter the String 2 : data\n",
            "camdatapusx\n"
          ]
        }
      ]
    },
    {
      "cell_type": "markdown",
      "source": [
        "### ``Problem 13``:Given string contains a combination of the lower and upper case letters. Write a program to arrange the characters of a string so that all lowercase letters should come first.\n",
        "\n",
        "Given:\n",
        "\n",
        "`str1 = PyNaTive`\n",
        "\n",
        "Expected Output:\n",
        "\n",
        "`yaivePNT`"
      ],
      "metadata": {
        "id": "2aIi3ctTLJ-H"
      }
    },
    {
      "cell_type": "code",
      "source": [
        "x=input(\"Enter the String : \")\n",
        "\n",
        "lower=''\n",
        "upper=''\n",
        "for i in x:\n",
        "  if i.islower():\n",
        "    lower+=i\n",
        "  else:\n",
        "    upper+=i\n",
        "print(lower+upper)"
      ],
      "metadata": {
        "id": "-vV7FQUoLJNe",
        "colab": {
          "base_uri": "https://localhost:8080/"
        },
        "outputId": "5f19d3dd-1a3b-4aa5-8574-befad3e29856"
      },
      "execution_count": 37,
      "outputs": [
        {
          "output_type": "stream",
          "name": "stdout",
          "text": [
            "Enter the String : PyNaTive\n",
            "yaivePNT\n"
          ]
        }
      ]
    },
    {
      "cell_type": "markdown",
      "source": [
        "### `Problem 14:`Take a alphanumeric string input and print the sum and average of the digits that appear in the string, ignoring all other characters.\n",
        "\n",
        "Input:\n",
        "\n",
        "`hel12304every093`\n",
        "\n",
        "Output:\n",
        "\n",
        "```\n",
        "Sum: 22\n",
        "Avg: 2.75\n",
        "```"
      ],
      "metadata": {
        "id": "c5DhfvOOLQeI"
      }
    },
    {
      "cell_type": "code",
      "source": [
        "x=input(\"Enter the String : \")\n",
        "sum=0\n",
        "count=0\n",
        "for i in x:\n",
        "  if i.isdigit():\n",
        "    sum+=int(i)\n",
        "    count+=1\n",
        "print(\"Sum : \",sum)\n",
        "print(\"Avg : \",sum/count)"
      ],
      "metadata": {
        "id": "cz69k9OELVa_",
        "colab": {
          "base_uri": "https://localhost:8080/"
        },
        "outputId": "dc74b868-3703-47b6-904e-5e9dba3241a1"
      },
      "execution_count": 41,
      "outputs": [
        {
          "output_type": "stream",
          "name": "stdout",
          "text": [
            "Enter the String : hel12304every093\n",
            "Sum :  22\n",
            "Avg :  2.75\n"
          ]
        }
      ]
    },
    {
      "cell_type": "markdown",
      "source": [
        "### `Problem 15:` Removal of all characters from a string except integers\n",
        "`Given:`\n",
        "\n",
        "```\n",
        "str1 = 'I am 25 years and 10 months old'\n",
        "```\n",
        "`Expected Output:`\n",
        "```\n",
        "2510\n",
        "```"
      ],
      "metadata": {
        "id": "hBnCuMkJLZjk"
      }
    },
    {
      "cell_type": "code",
      "source": [
        "x=input(\"Enter the String : \")\n",
        "res=''\n",
        "for i in x:\n",
        "  if i.isdigit():\n",
        "    res+=i\n",
        "print(res)"
      ],
      "metadata": {
        "id": "-N1Kksv8La7u",
        "colab": {
          "base_uri": "https://localhost:8080/"
        },
        "outputId": "b1909227-728e-46e0-f267-cbbc0adc6c72"
      },
      "execution_count": 42,
      "outputs": [
        {
          "output_type": "stream",
          "name": "stdout",
          "text": [
            "Enter the String : I am 25 years and 10 months old\n",
            "2510\n"
          ]
        }
      ]
    },
    {
      "cell_type": "markdown",
      "source": [
        "### `Problem 16`: Check whether the string is Symmetrical.\n",
        "\n",
        "**Statement:** Given a string. the task is to check if the string is symmetrical or not. A string is said to be symmetrical if both the halves of the string are the same.\n",
        "\n",
        "**Example 1:**\n",
        "\n",
        "`Input`\n",
        "\n",
        "```bash\n",
        "khokho\n",
        "```\n",
        "\n",
        "`Output`\n",
        "\n",
        "```bash\n",
        "The entered string is symmetrical\n",
        "```"
      ],
      "metadata": {
        "id": "MRzwngmkLhgb"
      }
    },
    {
      "cell_type": "code",
      "source": [
        "x = input(\"Enter the String: \")\n",
        "\n",
        "# find the middle index\n",
        "mid = len(x) // 2\n",
        "\n",
        "# divide the string into two halves\n",
        "if len(x) % 2 == 0:\n",
        "    left = x[:mid]\n",
        "    right = x[mid:]\n",
        "else:\n",
        "    left = x[:mid]\n",
        "    right = x[mid+1:]\n",
        "\n",
        "# check if both halves are equal\n",
        "if left == right:\n",
        "    print(\"The entered string is symmetrical\")\n",
        "else:\n",
        "    print(\"The entered string is not symmetrical\")\n"
      ],
      "metadata": {
        "id": "__M2HSNSLsG2",
        "colab": {
          "base_uri": "https://localhost:8080/"
        },
        "outputId": "456dad25-bab1-4a23-b38a-5c3af4c1352a"
      },
      "execution_count": 44,
      "outputs": [
        {
          "output_type": "stream",
          "name": "stdout",
          "text": [
            "Enter the String: khokho\n",
            "The entered string is symmetrical\n"
          ]
        }
      ]
    },
    {
      "cell_type": "markdown",
      "source": [
        "### `Problem 17`: Reverse words in a given String\n",
        "\n",
        "**Statement:** We are given a string and we need to reverse words of a given string.\n",
        "\n",
        "**Example 1:**\n",
        "\n",
        "`Input:`\n",
        "\n",
        "```bash\n",
        "geeks quiz practice code\n",
        "```\n",
        "\n",
        "`Output:`\n",
        "\n",
        "```bash\n",
        "code practice quiz geeks\n",
        "```\n",
        "\n",
        "**Example 2:**\n",
        "\n",
        "`Input:`\n",
        "\n",
        "```bash\n",
        "my name is laxmi\n",
        "```\n",
        "\n",
        "`Output:`\n",
        "\n",
        "```bash\n",
        "laxmi is name my\n",
        "```"
      ],
      "metadata": {
        "id": "OqjigUPXLub0"
      }
    },
    {
      "cell_type": "code",
      "source": [
        "x = input(\"Enter the String: \")\n",
        "s = x.split()  # split string into words\n",
        "\n",
        "for i in range(len(s)-1, -1, -1):  # loop backwards\n",
        "    print(s[i], end=' ')\n"
      ],
      "metadata": {
        "id": "H3zHq-l_L1Vy",
        "colab": {
          "base_uri": "https://localhost:8080/"
        },
        "outputId": "a52551c5-7174-409c-a292-fd63c37cdeea"
      },
      "execution_count": 50,
      "outputs": [
        {
          "output_type": "stream",
          "name": "stdout",
          "text": [
            "Enter the String: geeks quiz practice code\n",
            "code practice quiz geeks "
          ]
        }
      ]
    },
    {
      "cell_type": "markdown",
      "source": [
        "### `Problem 18`: Find uncommon words from two Strings.\n",
        "\n",
        "**Statement:** Given two sentences as strings **A** and **B**. The task is to return a list of all uncommon words. A word is uncommon if it appears exactly once in any one of the sentences, and does not appear in the other sentence. Note: A sentence is a string of space-separated words. Each word consists only of lowercase letters.\n",
        "\n",
        "**Example 1:**\n",
        "\n",
        "`Input:`\n",
        "\n",
        "```bash\n",
        "A = \"apple banana mango\"\n",
        "B = \"banana fruits mango\"\n",
        "```\n",
        "\n",
        "`Output:`\n",
        "\n",
        "```bash\n",
        "['apple', 'fruits']\n",
        "```"
      ],
      "metadata": {
        "id": "-mAIi4TuL7Oq"
      }
    },
    {
      "cell_type": "code",
      "source": [
        "x = input(\"Enter the String 1 : \")\n",
        "y = input(\"Enter the String 2 : \")\n",
        "\n",
        "a = x.split()\n",
        "b = y.split()\n",
        "\n",
        "res = []\n",
        "\n",
        "for word in a:\n",
        "    if word not in b:\n",
        "        res.append(word)\n",
        "\n",
        "for word in b:\n",
        "    if word not in a:\n",
        "        res.append(word)\n",
        "\n",
        "print(\"Common words are:\", res)\n"
      ],
      "metadata": {
        "id": "S9k1KiM-MFDC",
        "colab": {
          "base_uri": "https://localhost:8080/"
        },
        "outputId": "b7b2cdc2-906b-425c-917d-dcc60d25d838"
      },
      "execution_count": 54,
      "outputs": [
        {
          "output_type": "stream",
          "name": "stdout",
          "text": [
            "Enter the String 1 : banana fruits mango\n",
            "Enter the String 2 : apple banana mango\n",
            "Common words are: ['fruits', 'apple']\n"
          ]
        }
      ]
    },
    {
      "cell_type": "markdown",
      "source": [
        "### `Problem 19`: Word location in String.\n",
        "\n",
        "**Statement:** Find a location of a word in a given sentence.\n",
        "\n",
        "**Example 1:**\n",
        "\n",
        "`Input:`\n",
        "\n",
        "```bash\n",
        "Sentence: We can learn data science through campusx mentorship program.\n",
        "\n",
        "word: campusx\n",
        "```\n",
        "\n",
        "`Output:`\n",
        "\n",
        "```bash\n",
        "Location of the word is 7.\n",
        "```\n",
        "\n",
        "Note- Don't use index/find functions"
      ],
      "metadata": {
        "id": "AkGYE68cMGXh"
      }
    },
    {
      "cell_type": "code",
      "source": [
        "sentence = input(\"Enter the Sentence: \")\n",
        "word = input(\"Enter the word: \")\n",
        "\n",
        "words = sentence.split()   # split sentence into list of words\n",
        "\n",
        "if word in words:\n",
        "    position = words.index(word)+1   # +1 to make it human-readable (1-based)\n",
        "    print(\"Location of the word is\", position, \".\")\n",
        "else:\n",
        "    print(\"Word not found.\")\n"
      ],
      "metadata": {
        "id": "tpgkz1rIMQP2",
        "colab": {
          "base_uri": "https://localhost:8080/"
        },
        "outputId": "0ccc3265-e3f3-4f6d-a47c-e0a1cab0765f"
      },
      "execution_count": 59,
      "outputs": [
        {
          "output_type": "stream",
          "name": "stdout",
          "text": [
            "Enter the Sentence: We can learn data science through campusx mentorship program.\n",
            "Enter the word: campusx\n",
            "Location of the word is 7 .\n"
          ]
        }
      ]
    },
    {
      "cell_type": "markdown",
      "source": [
        "### `Problem 20`: Write a program that can remove all the duplicate characters from a string. User will provide the input."
      ],
      "metadata": {
        "id": "6Cbsnuk5MRuv"
      }
    },
    {
      "cell_type": "code",
      "source": [
        "s = input(\"Enter the Sentence: \")\n",
        "res=''\n",
        "for i in s :\n",
        "  if i not in res :\n",
        "    res=res+i\n",
        "\n",
        "print(\"remove the duplicate : \",res)"
      ],
      "metadata": {
        "id": "KeVq2OJkM6ye",
        "colab": {
          "base_uri": "https://localhost:8080/"
        },
        "outputId": "f14dfcba-0c25-4521-9ec9-0aefa543cfb0"
      },
      "execution_count": 62,
      "outputs": [
        {
          "output_type": "stream",
          "name": "stdout",
          "text": [
            "Enter the Sentence: aaaaaaaaa\n",
            "remove the duplicate :  a\n"
          ]
        }
      ]
    }
  ]
}