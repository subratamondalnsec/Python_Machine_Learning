{
  "nbformat": 4,
  "nbformat_minor": 0,
  "metadata": {
    "colab": {
      "provenance": []
    },
    "kernelspec": {
      "name": "python3",
      "display_name": "Python 3"
    },
    "language_info": {
      "name": "python"
    }
  },
  "cells": [
    {
      "cell_type": "markdown",
      "source": [
        "### `Problem 1`: Write a program that will give you in hand monthly salary after deduction on CTC - HRA(10%), DA(5%), PF(3%) and taxes deduction as below:\n",
        "\n",
        "> Salary(Lakhs) : Tax(%)\n",
        "\n",
        "*   Below 5 : 0%\n",
        "*   5-10 : 10%\n",
        "*   10-20 : 20%\n",
        "*   aboove 20 : 30%"
      ],
      "metadata": {
        "id": "w6RlOAXV2PWh"
      }
    },
    {
      "cell_type": "code",
      "source": [
        "CTC=int(input(\"Enter our CTC : \"))\n",
        "CTC=CTC-((CTC*0.1)+(CTC*0.05)+(CTC*0.03))\n",
        "salary=None\n",
        "if CTC < 500000 :\n",
        "  salary=CTC/12;\n",
        "elif CTC >= 500000 and CTC < 1000000 :\n",
        "  salary=(CTC-(CTC*0.1))/12\n",
        "elif CTC >= 1000000 and CTC < 2000000 :\n",
        "  salary=(CTC-(CTC*0.2))/12\n",
        "else:\n",
        "  salary=(CTC-(CTC*0.3))/12\n",
        "print(\"Your monthly salary is : \",salary)"
      ],
      "metadata": {
        "id": "7tMHvKYO2etI",
        "colab": {
          "base_uri": "https://localhost:8080/"
        },
        "outputId": "21c32086-b670-4b1f-d55e-9a15a83e9d06"
      },
      "execution_count": null,
      "outputs": [
        {
          "output_type": "stream",
          "name": "stdout",
          "text": [
            "Enter our CTC : 2000000\n",
            "Your monthly salary is :  109333.33333333333\n"
          ]
        }
      ]
    },
    {
      "cell_type": "markdown",
      "source": [
        "### `Problem 2`: Write a program that take a user input of three angles and will find out whether it can form a triangle or not."
      ],
      "metadata": {
        "id": "tYzCGqwl2hfN"
      }
    },
    {
      "cell_type": "code",
      "source": [
        "angel1=int(input(\"Enter the First Angel Degree : \"))\n",
        "angel2=int(input(\"Enter the Second Angel Degree : \"))\n",
        "angel3=int(input(\"Enter the Third Angel Degree : \"))\n",
        "\n",
        "if(angel1+angel2+angel3==180):\n",
        "  print(\"It is a Triangle\")\n",
        "else:\n",
        "  print(\"It is not a Triangle\")"
      ],
      "metadata": {
        "id": "FYEqln-I2kxV",
        "colab": {
          "base_uri": "https://localhost:8080/"
        },
        "outputId": "58e3fc91-c21f-4335-9571-ebb192972d2d"
      },
      "execution_count": null,
      "outputs": [
        {
          "output_type": "stream",
          "name": "stdout",
          "text": [
            "Enter the First Angel Degree : 45\n",
            "Enter the Second Angel Degree : 90\n",
            "Enter the Third Angel Degree : 45\n",
            "It is a Triangle\n"
          ]
        }
      ]
    },
    {
      "cell_type": "markdown",
      "source": [
        "### `Problem 3`: Write a program that will take user input of cost price and selling price and determines whether its a loss or a profit."
      ],
      "metadata": {
        "id": "5vEpPh8C2pE4"
      }
    },
    {
      "cell_type": "code",
      "source": [
        "selling_price=int(input(\"Enter the Selling Price : \"))\n",
        "cost_price=int(input(\"Enter the Cost Price : \"))\n",
        "\n",
        "if(selling_price>cost_price):\n",
        "  print(\"It is a Profit\")"
      ],
      "metadata": {
        "id": "jDwBXlkO2sfl"
      },
      "execution_count": null,
      "outputs": []
    },
    {
      "cell_type": "markdown",
      "source": [
        "### `Problem 4`: Write a menu-driven program -\n",
        "1. cm to ft\n",
        "2. km to miles\n",
        "3. USD to INR\n",
        "4. exit"
      ],
      "metadata": {
        "id": "J_FG_cJW2ugT"
      }
    },
    {
      "cell_type": "code",
      "source": [
        "print(\"\"\"\n",
        "Menu-Driven Program -\n",
        "1. cm to ft\n",
        "2. km to miles\n",
        "3. USD to INR\n",
        "4. Exit\n",
        "\"\"\")\n",
        "\n",
        "while True:\n",
        "    op = int(input(\"Enter the option: \"))\n",
        "\n",
        "    if op == 1:\n",
        "        cm = float(input(\"Enter length in cm: \"))\n",
        "        ft = cm / 30.48   # 1 ft = 30.48 cm\n",
        "        print(f\"{cm} cm = {ft:.2f} ft\")\n",
        "\n",
        "    elif op == 2:\n",
        "        km = float(input(\"Enter distance in km: \"))\n",
        "        miles = km * 0.621371   # 1 km = 0.621371 miles\n",
        "        print(f\"{km} km = {miles:.2f} miles\")\n",
        "\n",
        "    elif op == 3:\n",
        "        usd = float(input(\"Enter amount in USD: \"))\n",
        "        inr = usd * 83.0   # approx rate, can be updated\n",
        "        print(f\"${usd} = ₹{inr:.2f}\")\n",
        "\n",
        "    elif op == 4:\n",
        "        print(\"Exiting program. Goodbye!\")\n",
        "        break\n",
        "\n",
        "    else:\n",
        "        print(\"Invalid Option, please try again.\")\n",
        "\n",
        "    print()  # Blank line for readability\n"
      ],
      "metadata": {
        "id": "yBHhaCGQ2zpD",
        "colab": {
          "base_uri": "https://localhost:8080/"
        },
        "outputId": "0f14a00b-6b1d-45cd-c027-69e0b6e33999"
      },
      "execution_count": null,
      "outputs": [
        {
          "output_type": "stream",
          "name": "stdout",
          "text": [
            "\n",
            "Menu-Driven Program -\n",
            "1. cm to ft\n",
            "2. km to miles\n",
            "3. USD to INR\n",
            "4. Exit\n",
            "\n",
            "Enter the option: 1\n",
            "Enter length in cm: 10\n",
            "10.0 cm = 0.33 ft\n",
            "\n",
            "Enter the option: 4\n",
            "Exiting program. Goodbye!\n"
          ]
        }
      ]
    },
    {
      "cell_type": "markdown",
      "source": [
        "### `Problem 5` - Exercise 12: Display Fibonacci series up to 10 terms.\n",
        "\n",
        "*Note: The Fibonacci Sequence is a series of numbers. The next number is found by adding up the two numbers before it. The first two numbers are 0 and 1. For example, 0, 1, 1, 2, 3, 5, 8, 13, 21. The next number in this series above is 13+21 = 34*"
      ],
      "metadata": {
        "id": "LJJ30_Yw27ZU"
      }
    },
    {
      "cell_type": "code",
      "source": [
        "n=int(input(\"Enter the number of terms : \"))\n",
        "a=0\n",
        "b=1\n",
        "for i in range(n):\n",
        "  print(a,end=\" \")\n",
        "  c=a+b\n",
        "  a=b\n",
        "  b=c"
      ],
      "metadata": {
        "id": "ae_1rpe52-5R"
      },
      "execution_count": null,
      "outputs": []
    },
    {
      "cell_type": "markdown",
      "source": [
        "### `Problem 6` - Find the factorial of a given number.\n",
        "\n",
        "Write a program to use the loop to find the factorial of a given number.\n",
        "\n",
        "The factorial (symbol: `!`) means to multiply all whole numbers from the chosen number down to 1.\n",
        "\n",
        "For example: calculate the factorial of 5\n",
        "\n",
        "```bash\n",
        "5! = 5 × 4 × 3 × 2 × 1 = 120\n",
        "```\n",
        "\n",
        "Output:\n",
        "\n",
        "```bash\n",
        "120\n",
        "```"
      ],
      "metadata": {
        "id": "pk_I_S4m3PT5"
      }
    },
    {
      "cell_type": "code",
      "source": [
        "fact = int(input(\"Enter the factorial Number : \"))\n",
        "for i in range(1,fact):\n",
        "  fact=fact*i\n",
        "print(fact)"
      ],
      "metadata": {
        "id": "lzXxHegx3Rkc",
        "colab": {
          "base_uri": "https://localhost:8080/"
        },
        "outputId": "b99e68a7-83db-43b9-9ae9-4a6f8c75a103"
      },
      "execution_count": null,
      "outputs": [
        {
          "output_type": "stream",
          "name": "stdout",
          "text": [
            "Enter the factorial Number : 5\n",
            "120\n"
          ]
        }
      ]
    },
    {
      "cell_type": "markdown",
      "source": [
        "### `Problem 7` - Reverse a given integer number.\n",
        "\n",
        "Example:\n",
        "\n",
        "`Input:`\n",
        "\n",
        "```bash\n",
        "76542\n",
        "```\n",
        "\n",
        "`Output:`\n",
        "\n",
        "```bash\n",
        "24567\n",
        "```"
      ],
      "metadata": {
        "id": "-17IOi-g3UpU"
      }
    },
    {
      "cell_type": "code",
      "source": [
        "n=int(input(\"Enter the number : \"))\n",
        "rev=0\n",
        "while(n>0) :\n",
        "  rev=rev*10+(n%10)\n",
        "  n//=10\n",
        "\n",
        "print(\"reverse of the Number :\",rev)"
      ],
      "metadata": {
        "id": "wJwLpKCr3aVA",
        "colab": {
          "base_uri": "https://localhost:8080/"
        },
        "outputId": "37157e74-82af-4dee-e160-63e1f1fabf7b"
      },
      "execution_count": null,
      "outputs": [
        {
          "output_type": "stream",
          "name": "stdout",
          "text": [
            "Enter the number : 9874\n",
            "reverse of the Number : 4789\n"
          ]
        }
      ]
    },
    {
      "cell_type": "markdown",
      "source": [
        "### `Problem 8`: Take a user input as integer N. Find out the sum from 1 to N. If any number if divisible by 5, then skip that number. And if the sum is greater than 300, don't need to calculate the sum further more. Print the final result. And don't use for loop to solve this problem.\n",
        "\n",
        "**Example 1:**\n",
        "\n",
        "`Input:`\n",
        "\n",
        "```bash\n",
        "30\n",
        "```\n",
        "\n",
        "`Output:`\n",
        "\n",
        "```bash\n",
        "276\n",
        "```"
      ],
      "metadata": {
        "id": "-t8PJQaY3sHf"
      }
    },
    {
      "cell_type": "code",
      "source": [
        "n=int(input(\"Enter the number : \"))\n",
        "sum=0\n",
        "if n > 26 :\n",
        "  n=26\n",
        "\n",
        "sum+=(n*(n+1))//2\n",
        "n5=n//5\n",
        "sum-=(5*n5*(n5+1))//2\n",
        "print(sum)"
      ],
      "metadata": {
        "id": "GZB6mGMP3ujT",
        "colab": {
          "base_uri": "https://localhost:8080/"
        },
        "outputId": "21364088-c416-49d6-e910-570c26d04609"
      },
      "execution_count": null,
      "outputs": [
        {
          "output_type": "stream",
          "name": "stdout",
          "text": [
            "Enter the number : 30\n",
            "276\n"
          ]
        }
      ]
    },
    {
      "cell_type": "markdown",
      "source": [
        "### `Problem 9`: Write a program that keeps on accepting a number from the user until the user enters Zero. Display the sum and average of all the numbers."
      ],
      "metadata": {
        "id": "Q7ggImeA3xm4"
      }
    },
    {
      "cell_type": "code",
      "source": [
        "sum=0\n",
        "n=0\n",
        "while True :\n",
        "  in=int(input(\"Enter the number : \"))\n",
        "  if in == 0 :\n",
        "    break\n",
        "  sum+=in\n",
        "  n+=1\n",
        "print(\"Sum : \",sum)\n",
        "print(\"Average : \",sum/n)"
      ],
      "metadata": {
        "id": "t_YDSZDe4Kdo"
      },
      "execution_count": null,
      "outputs": []
    },
    {
      "cell_type": "markdown",
      "source": [
        "###`Problem 9`: Write a program which will find all such numbers which are divisible by 7 but are not a multiple of 5, between 2000 and 3200 (both included). The numbers obtained should be printed in a comma-separated sequence on a single line."
      ],
      "metadata": {
        "id": "6EhvEMvm4R7s"
      }
    },
    {
      "cell_type": "code",
      "source": [
        "numbers = []\n",
        "\n",
        "for i in range(2000, 3201):  # 3200 included\n",
        "    if i % 7 == 0 and i % 5 != 0:\n",
        "        numbers.append(str(i))  # convert to string for joining later\n",
        "\n",
        "# Print all numbers in comma-separated format\n",
        "print(\",\".join(numbers))\n"
      ],
      "metadata": {
        "id": "d6RgP1B34T6c"
      },
      "execution_count": null,
      "outputs": []
    },
    {
      "cell_type": "markdown",
      "source": [
        "###`Problem 10`: Write a program, which will find all such numbers between 1000 and 3000 (both included) such that each digit of the number is an even number. The numbers obtained should be printed in a space-separated sequence on a single line.\n",
        "\n"
      ],
      "metadata": {
        "id": "tYvmRR-G4Vp4"
      }
    },
    {
      "cell_type": "code",
      "source": [
        "numbers = []\n",
        "\n",
        "for i in range(1000, 3001):\n",
        "  flag=True\n",
        "  for  j in str(i):\n",
        "    if int(j) % 2 != 0:\n",
        "      flag=False\n",
        "      break\n",
        "  if flag :\n",
        "    print(i,end=\", \")\n",
        "# Print all numbers in comma-separated format\n"
      ],
      "metadata": {
        "colab": {
          "base_uri": "https://localhost:8080/"
        },
        "id": "-VPXHBZPfpez",
        "outputId": "96f557c4-8c00-4975-adab-8f624484525d"
      },
      "execution_count": null,
      "outputs": [
        {
          "output_type": "stream",
          "name": "stdout",
          "text": [
            "2000, 2002, 2004, 2006, 2008, 2020, 2022, 2024, 2026, 2028, 2040, 2042, 2044, 2046, 2048, 2060, 2062, 2064, 2066, 2068, 2080, 2082, 2084, 2086, 2088, 2200, 2202, 2204, 2206, 2208, 2220, 2222, 2224, 2226, 2228, 2240, 2242, 2244, 2246, 2248, 2260, 2262, 2264, 2266, 2268, 2280, 2282, 2284, 2286, 2288, 2400, 2402, 2404, 2406, 2408, 2420, 2422, 2424, 2426, 2428, 2440, 2442, 2444, 2446, 2448, 2460, 2462, 2464, 2466, 2468, 2480, 2482, 2484, 2486, 2488, 2600, 2602, 2604, 2606, 2608, 2620, 2622, 2624, 2626, 2628, 2640, 2642, 2644, 2646, 2648, 2660, 2662, 2664, 2666, 2668, 2680, 2682, 2684, 2686, 2688, 2800, 2802, 2804, 2806, 2808, 2820, 2822, 2824, 2826, 2828, 2840, 2842, 2844, 2846, 2848, 2860, 2862, 2864, 2866, 2868, 2880, 2882, 2884, 2886, 2888, "
          ]
        }
      ]
    },
    {
      "cell_type": "markdown",
      "source": [
        "###`Problem 11`: A robot moves in a plane starting from the original point (0,0). The robot can move toward UP, DOWN, LEFT and RIGHT with a given steps.\n",
        "The trace of robot movement is shown as the following:\n",
        "```\n",
        "UP 5\n",
        "DOWN 3\n",
        "LEFT 3\n",
        "RIGHT 2\n",
        "!\n",
        "```\n",
        "> The numbers after the direction are steps.\n",
        "\n",
        "> `!` means robot stop there.\n",
        "\n",
        "**Please write a program to compute the distance from current position after a sequence of movement and original point.**\n",
        "\n",
        "*If the distance is a float, then just print the nearest integer.*\n",
        "\n",
        "Example:\n",
        "\n",
        "`Input`:\n",
        "```\n",
        "UP 5\n",
        "DOWN 3\n",
        "LEFT 3\n",
        "RIGHT 2\n",
        "!\n",
        "```\n",
        "`Output`:\n",
        "```\n",
        "2\n",
        "```"
      ],
      "metadata": {
        "id": "GV18IINT4mf5"
      }
    },
    {
      "cell_type": "code",
      "source": [
        "import math\n",
        "\n",
        "x = 0\n",
        "y = 0\n",
        "\n",
        "while True:\n",
        "    move = input().strip()\n",
        "    if move == \"!\":\n",
        "        break\n",
        "    direction, steps = move.split()\n",
        "    steps = int(steps)\n",
        "\n",
        "    if direction.upper() == \"UP\":\n",
        "        y += steps\n",
        "    elif direction.upper() == \"DOWN\":\n",
        "        y -= steps\n",
        "    elif direction.upper() == \"LEFT\":\n",
        "        x -= steps\n",
        "    elif direction.upper() == \"RIGHT\":\n",
        "        x += steps\n",
        "\n",
        "distance = round(math.sqrt(x**2 + y**2))\n",
        "print(distance)\n"
      ],
      "metadata": {
        "id": "6UNMC2aR4w5x",
        "colab": {
          "base_uri": "https://localhost:8080/"
        },
        "outputId": "73fc4341-a86d-44b4-ffe1-3697d9ca0823"
      },
      "execution_count": 6,
      "outputs": [
        {
          "output_type": "stream",
          "name": "stdout",
          "text": [
            "UP 5\n",
            "DOWN 3\n",
            "LEFT 3\n",
            "RIGHT 2\n",
            "!\n",
            "2\n"
          ]
        }
      ]
    },
    {
      "cell_type": "markdown",
      "source": [
        "###`Problem 11`: A robot moves in a plane starting from the original point (0,0). The robot can move toward UP, DOWN, LEFT and RIGHT with a given steps.\n",
        "The trace of robot movement is shown as the following:\n",
        "```\n",
        "UP 5\n",
        "DOWN 3\n",
        "LEFT 3\n",
        "RIGHT 2\n",
        "!\n",
        "```\n",
        "> The numbers after the direction are steps.\n",
        "\n",
        "> `!` means robot stop there.\n",
        "\n",
        "**Please write a program to compute the distance from current position after a sequence of movement and original point.**\n",
        "\n",
        "*If the distance is a float, then just print the nearest integer.*\n",
        "\n",
        "Example:\n",
        "\n",
        "`Input`:\n",
        "```\n",
        "UP 5\n",
        "DOWN 3\n",
        "LEFT 3\n",
        "RIGHT 2\n",
        "!\n",
        "```\n",
        "`Output`:\n",
        "```\n",
        "2\n",
        "```"
      ],
      "metadata": {
        "id": "BzhlZFHXugeN"
      }
    },
    {
      "cell_type": "markdown",
      "source": [
        "###`Problem 11`: A robot moves in a plane starting from the original point (0,0). The robot can move toward UP, DOWN, LEFT and RIGHT with a given steps.\n",
        "The trace of robot movement is shown as the following:\n",
        "```\n",
        "UP 5\n",
        "DOWN 3\n",
        "LEFT 3\n",
        "RIGHT 2\n",
        "!\n",
        "```\n",
        "> The numbers after the direction are steps.\n",
        "\n",
        "> `!` means robot stop there.\n",
        "\n",
        "**Please write a program to compute the distance from current position after a sequence of movement and original point.**\n",
        "\n",
        "*If the distance is a float, then just print the nearest integer.*\n",
        "\n",
        "Example:\n",
        "\n",
        "`Input`:\n",
        "```\n",
        "UP 5\n",
        "DOWN 3\n",
        "LEFT 3\n",
        "RIGHT 2\n",
        "!\n",
        "```\n",
        "`Output`:\n",
        "```\n",
        "2\n",
        "```"
      ],
      "metadata": {
        "id": "9xZn8bfFufuP"
      }
    },
    {
      "cell_type": "markdown",
      "source": [
        "###`Problem 12`:Write a program to print whether a given number is a prime number or not"
      ],
      "metadata": {
        "id": "3fsAIAhK5GYY"
      }
    },
    {
      "cell_type": "code",
      "source": [
        "import math\n",
        "\n",
        "n = int(input(\"Enter the number: \"))\n",
        "flag = True\n",
        "\n",
        "if n > 1:\n",
        "    for i in range(2, int(math.sqrt(n)) + 1):  # convert sqrt(n) to int\n",
        "        if n % i == 0:\n",
        "            flag = False\n",
        "            break\n",
        "\n",
        "    if flag:\n",
        "        print(n, \"is a prime number\")\n",
        "    else:\n",
        "        print(n, \"is not a prime number\")\n",
        "else:\n",
        "    print(n, \"is not a prime number\")\n"
      ],
      "metadata": {
        "id": "j6y91lxy5LZs",
        "colab": {
          "base_uri": "https://localhost:8080/"
        },
        "outputId": "0a932998-799e-45dc-c853-c29e5157d9a1"
      },
      "execution_count": 3,
      "outputs": [
        {
          "output_type": "stream",
          "name": "stdout",
          "text": [
            "Enter the number: 17\n",
            "17 is a prime number\n"
          ]
        }
      ]
    },
    {
      "cell_type": "markdown",
      "source": [
        "###`Problem 13`:Print all the Armstrong numbers in a given range.\n",
        "Range will be provided by the user<br>\n",
        "Armstrong number is a number that is equal to the sum of cubes of its digits. For example 0, 1, 153, 370, 371 and 407 are the Armstrong numbers."
      ],
      "metadata": {
        "id": "asAbmbK-5NHv"
      }
    },
    {
      "cell_type": "code",
      "source": [
        "lo = int(input(\"Enter the lower limit: \"))\n",
        "up = int(input(\"Enter the upper limit: \"))\n",
        "\n",
        "while lo < up:\n",
        "    num = lo\n",
        "    sz = len(str(num))\n",
        "    sum = 0\n",
        "\n",
        "    temp = num\n",
        "    while temp > 0:\n",
        "        digit = temp % 10\n",
        "        sum += digit ** sz\n",
        "        temp //= 10\n",
        "\n",
        "    if sum == num:\n",
        "        print(num)\n",
        "\n",
        "    lo += 1\n"
      ],
      "metadata": {
        "id": "PZuI67pm5jCT",
        "colab": {
          "base_uri": "https://localhost:8080/"
        },
        "outputId": "3be20e09-aecc-464a-aa11-fd88f0b518c6"
      },
      "execution_count": 5,
      "outputs": [
        {
          "output_type": "stream",
          "name": "stdout",
          "text": [
            "Enter the lower limit: 10\n",
            "Enter the upper limit: 300\n",
            "153\n"
          ]
        }
      ]
    },
    {
      "cell_type": "markdown",
      "source": [
        "###`Problem 14`:Calculate the angle between the hour hand and minute hand.\n",
        "\n",
        "Note: There can be two angles between hands; we need to print a minimum of two. Also, we need to print the floor of the final result angle. For example, if the final angle is 10.61, we need to print 10.\n",
        "\n",
        "Input:<br>\n",
        "H = 9 , M = 0<br>\n",
        "Output:<br>\n",
        "90<br>\n",
        "Explanation:<br>\n",
        "The minimum angle between hour and minute\n",
        "hand when the time is 9 is 90 degress."
      ],
      "metadata": {
        "id": "ClCQZMqT7gK0"
      }
    },
    {
      "cell_type": "code",
      "source": [
        "import math\n",
        "\n",
        "# Input hour and minute\n",
        "H = int(input(\"Enter hour: \"))\n",
        "M = int(input(\"Enter minute: \"))\n",
        "\n",
        "# Calculate angles\n",
        "hour_angle = 0.5 * (60 * H + M)\n",
        "minute_angle = 6 * M\n",
        "\n",
        "# Find difference\n",
        "angle = abs(hour_angle - minute_angle)\n",
        "\n",
        "# Find minimum angle and take floor\n",
        "final_angle = math.floor(min(angle, 360 - angle))\n",
        "\n",
        "print(final_angle)\n"
      ],
      "metadata": {
        "id": "tNBTCZML7jy_",
        "colab": {
          "base_uri": "https://localhost:8080/"
        },
        "outputId": "43423c17-6e6a-4a58-8058-d04aea772296"
      },
      "execution_count": 7,
      "outputs": [
        {
          "output_type": "stream",
          "name": "stdout",
          "text": [
            "Enter hour: 9\n",
            "Enter minute: 0\n",
            "90\n"
          ]
        }
      ]
    },
    {
      "cell_type": "markdown",
      "source": [
        "###`Problem 15`:Given two rectangles, find if the given two rectangles overlap or not. A rectangle is denoted by providing the x and y coordinates of two points: the left top corner and the right bottom corner of the rectangle. Two rectangles sharing a side are considered overlapping. (L1 and R1 are the extreme points of the first rectangle and L2 and R2 are the extreme points of the second rectangle).\n",
        "\n",
        "Note: It may be assumed that the rectangles are parallel to the coordinate axis.\n",
        "\n",
        "<img src='https://www.geeksforgeeks.org/wp-content/uploads/rectanglesOverlap.png' width='300' height='200'>"
      ],
      "metadata": {
        "id": "GwacF9Co72Qc"
      }
    },
    {
      "cell_type": "code",
      "source": [
        "# Input rectangle coordinates\n",
        "# Rectangle 1\n",
        "x1, y1 = map(int, input(\"Enter L1 (x1 y1): \").split())\n",
        "x2, y2 = map(int, input(\"Enter R1 (x2 y2): \").split())\n",
        "\n",
        "# Rectangle 2\n",
        "x3, y3 = map(int, input(\"Enter L2 (x3 y3): \").split())\n",
        "x4, y4 = map(int, input(\"Enter R2 (x4 y4): \").split())\n",
        "\n",
        "# Check non-overlapping conditions\n",
        "if (x1 > x4) or (x3 > x2) or (y2 > y3) or (y4 > y1):\n",
        "    print(\"Rectangles do NOT overlap\")\n",
        "else:\n",
        "    print(\"Rectangles OVERLAP\")\n"
      ],
      "metadata": {
        "id": "6rrw_lpH78Rs",
        "colab": {
          "base_uri": "https://localhost:8080/"
        },
        "outputId": "f73898d2-9d98-4b0a-9f30-01876d2bc484"
      },
      "execution_count": 8,
      "outputs": [
        {
          "output_type": "stream",
          "name": "stdout",
          "text": [
            "Enter L1 (x1 y1): 10 20\n",
            "Enter R1 (x2 y2): 12 22\n",
            "Enter L2 (x3 y3): 11 21\n",
            "Enter R2 (x4 y4): 13 23\n",
            "Rectangles do NOT overlap\n"
          ]
        }
      ]
    }
  ]
}